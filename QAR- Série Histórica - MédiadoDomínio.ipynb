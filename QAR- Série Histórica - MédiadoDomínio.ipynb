{
 "cells": [
  {
   "cell_type": "markdown",
   "metadata": {},
   "source": [
    "   # Validação de Dados Modelados com Observados"
   ]
  },
  {
   "cell_type": "markdown",
   "metadata": {},
   "source": [
    "Carregar arquivos para comparar dados monitorados com séries modelada (arquivos combine)"
   ]
  },
  {
   "cell_type": "code",
   "execution_count": 16,
   "metadata": {
    "collapsed": true
   },
   "outputs": [],
   "source": [
    "import pandas as pd\n",
    "import xarray as xr\n",
    "from netCDF4 import Dataset\n",
    "import numpy as np\n",
    "import matplotlib.pyplot as plt\n",
    "from mpl_toolkits.basemap import Basemap\n",
    "import utm\n",
    "import seaborn as sns\n",
    "import datetime as dt\n",
    "from bisect import bisect_left\n",
    "import math\n",
    "%matplotlib inline\n",
    "\n",
    "def takeClosest(myList, myNumber):\n",
    "    \"\"\"\n",
    "    Assumes myList is sorted. Returns closest value to myNumber.\n",
    "    If two numbers are equally close, return the smallest number.\n",
    "    \"\"\"\n",
    "    pos = bisect_left(myList, myNumber)\n",
    "    if pos == 0:\n",
    "        return myList[0]\n",
    "    if pos == len(myList):\n",
    "        return myList[-1]\n",
    "    before = myList[pos - 1]\n",
    "    after = myList[pos]\n",
    "    if after - myNumber < myNumber - before:\n",
    "       return after\n",
    "    else:\n",
    "       return before\n"
   ]
  },
  {
   "cell_type": "markdown",
   "metadata": {},
   "source": [
    "## *Entradas*\n",
    "* Selecionar arquivos de origem para preparar figuras.\n",
    "* Inicializar variáveis para figuras.\n",
    "\n",
    "### Parametrização dos arquivos de entrada\n",
    "\n",
    "Ajustar diretório que contem o arquivo da estação e nomes de rodadas."
   ]
  },
  {
   "cell_type": "code",
   "execution_count": 43,
   "metadata": {
    "collapsed": true
   },
   "outputs": [],
   "source": [
    "directory = str('D:/Mestrado/1.Resultados/QualidadedoAr/')\n",
    "wrfdir = str('D:/Mestrado/1.Resultados/Meteorologia/')\n",
    "mes   = ['jan','jul']\n",
    "grade = 'd04_1km'\n",
    "data  = ['20150109','20150724']\n",
    "datawrf  = ['01-09','07-24']\n",
    "periodo = ['Verão', 'Inverno']\n",
    "\n",
    "moded = ['-','-20I','-20T','-20I-20T']\n",
    "modnames = ['ED', 'ED-20I','ED-20T','ED-20I-20T']\n",
    "modpt = ['_PT_ED-100I','_PT-20_ED-100I', '_PT_ED-100I-20T', '_PT-20_ED-100I-20T']\n",
    "modptnames = ['PT_ED-100I', 'PT-20_ED-100I','PT_ED-100I-20T','PT-20_ED-100I-20T']\n",
    "shapes = ['pirashape','RMSP']\n",
    "\n",
    "spinup = 48\n",
    "run_len = 24*7\n",
    "gmt = 3\n",
    "\n",
    "date_index = 1"
   ]
  },
  {
   "cell_type": "code",
   "execution_count": 44,
   "metadata": {},
   "outputs": [],
   "source": [
    "#DADOS ESTACAO\n",
    "estacao     = 'PIRACICABA (A)'\n",
    "estlat,estlon = utm.to_latlon(easting=227797, northing=7487124, zone_letter='k', zone_number=23)\n",
    "est = pd.read_csv(directory+'piracicaba.csv', delimiter=';')\n",
    "#est['Hora'] = est['Hora'].apply(lambda x: '24:00' if x == '24:00:00' else x)\n",
    "est['Hora'] = est['Hora'].apply(lambda x: dt.timedelta(hours=float(x[:2])))\n",
    "est['Data'] = est['Data'].apply(lambda x: dt.datetime.strptime(x,'%d/%m/%Y'))\n",
    "est['Data'] += est['Hora']\n",
    "est.drop(columns=['Unnamed: 0','Hora','wind_dir','wind_dir_avg','temp','ur','wind_vel'], inplace=True)\n",
    "est.set_index('Data', inplace=True)"
   ]
  },
  {
   "cell_type": "markdown",
   "metadata": {},
   "source": [
    "## Abrir arquivos COMBINE ACONC e DEP"
   ]
  },
  {
   "cell_type": "code",
   "execution_count": 45,
   "metadata": {
    "collapsed": true
   },
   "outputs": [],
   "source": [
    "aconc = []\n",
    "for m in moded:\n",
    "    aconc.append(xr.open_dataset(directory+mes[date_index]+'.'+grade+m+'/COMBINE_ACONC_v521_intel_pira_riz_nudge_'+\n",
    "                        mes[date_index]+'_'+data[date_index]+'.nc'))\n",
    "for m in modpt:\n",
    "    aconc.append(xr.open_dataset(directory+mes[date_index]+'.'+grade+m+'/COMBINE_ACONC_v521_intel_pira_riz_nudge_'+\n",
    "                        mes[date_index]+'_'+data[date_index]+'.nc'))\n",
    "\n",
    "for i in range(0,len(aconc)):\n",
    "    aconc[i] = aconc[i].isel(LAY=0)"
   ]
  },
  {
   "cell_type": "markdown",
   "metadata": {},
   "source": [
    "## Abrir arquivo WRF para buscar valores de LAT / LON"
   ]
  },
  {
   "cell_type": "code",
   "execution_count": 46,
   "metadata": {
    "collapsed": true
   },
   "outputs": [],
   "source": [
    "nc_wrf = Dataset(wrfdir+'arqWRF/'+mes[0]+'/wrf_fnl_pira_pedruzzi2016_nudge_'+\n",
    "                 mes[0]+'/wrfout_'+grade[:3]+'_2015-'+datawrf[0]+'_00%3A00%3A00')"
   ]
  },
  {
   "cell_type": "markdown",
   "metadata": {},
   "source": [
    "## Preparar coordenadas para XArray\n",
    "* DATAS\n",
    "* ALTITUDE\n",
    "* LATITUDE\n",
    "* LONGITUDE"
   ]
  },
  {
   "cell_type": "code",
   "execution_count": 47,
   "metadata": {
    "collapsed": true
   },
   "outputs": [],
   "source": [
    "# DATAS\n",
    "dates = []\n",
    "dates = [dt.datetime.strptime(str(aconc[0].attrs['SDATE']),'%Y%j')]\n",
    "for i in range(1,aconc[0].dims['TSTEP']):\n",
    "    dates.append(dates[0]+dt.timedelta(hours=i))\n",
    "    \n",
    "# LATITUDE\n",
    "# LONGITUDE\n",
    "croplat = int((nc_wrf.dimensions['south_north'].size-aconc[0].dims['ROW'])/2)\n",
    "croplon = int((nc_wrf.dimensions['south_north'].size-aconc[0].dims['ROW'])/2)\n",
    "lats      = nc_wrf.variables['XLAT'][0,croplat:-croplat,croplat:-croplat]\n",
    "longs     = nc_wrf.variables['XLONG'][0,croplon:-croplon,croplon:-croplon]\n",
    "\n",
    "# COORDENADAS PARA POSICIONAR ESTACAO\n",
    "if (estlat > np.amin(lats) and\n",
    "    estlat < np.amax(lats) and\n",
    "    estlon > np.amin(longs)and\n",
    "    estlon < np.amax(longs)):                \n",
    "    esty     = lats[:,0].tolist().index(takeClosest(lats[:,0],estlat))     #index Lat da estação no domínio\n",
    "    estx     = longs[0,:].tolist().index(takeClosest(longs[0,:],estlon))   #index Lat da estação no domínio\n",
    "\n",
    "# PLOT CORNERS\n",
    "llcrnrlon = np.min(longs)      #longitude of lower left hand corner of the selected map domain.\n",
    "llcrnrlat = np.min(lats)       #latitude of upper right hand corner of the desired map domain (degrees).\n",
    "urcrnrlon = np.max(longs)      #longitude of upper right hand corner of the selected map domain.\n",
    "urcrnrlat = np.max(lats)      #latitude of upper right hand corner of the selected map domain.\n",
    "\n",
    "coordlat  = np.linspace(llcrnrlat,urcrnrlat,num=aconc[0].dims['ROW'])\n",
    "coordlon  = np.linspace(llcrnrlon,urcrnrlon,num=aconc[0].dims['COL'])\n",
    "\n",
    "# ADJUSTMENTS\n",
    "for a in aconc:\n",
    "    a.coords['TSTEP'] = dates\n",
    "    a.coords['ROW'] = coordlat\n",
    "    a.coords['COL'] = coordlon\n",
    "    a.rename({'ROW': 'LAT', 'COL': 'LON'}, inplace=True)\n",
    "    for var in a.variables:\n",
    "        if 'units' in a.variables[var].attrs:\n",
    "            if a.variables[var].attrs['units'].split() != []:\n",
    "                a.variables[var].attrs['units'] = a.variables[var].attrs['units'].split()[0]\n",
    "\n",
    "for i in range(0,len(aconc)):\n",
    "    aconc[i] = aconc[i].isel(TSTEP=slice(spinup,spinup+run_len))\n",
    "    aconc[i].coords['TSTEP'] -= pd.Timedelta(gmt,'h')\n",
    "weekd=[]\n",
    "for d in aconc[0].TSTEP.dt.weekday:\n",
    "    if d < 5:\n",
    "        weekd.append('Weekday')\n",
    "    else:\n",
    "        weekd.append('Weekend')"
   ]
  },
  {
   "cell_type": "markdown",
   "metadata": {
    "collapsed": true
   },
   "source": [
    "## Figuras - Séries Históricas"
   ]
  },
  {
   "cell_type": "markdown",
   "metadata": {},
   "source": [
    "### Material Particulado"
   ]
  },
  {
   "cell_type": "code",
   "execution_count": null,
   "metadata": {},
   "outputs": [],
   "source": [
    "param = 'PM25_TOT'\n",
    "mesplt = mes[date_index]\n",
    "gradeplt = grade\n",
    "\n",
    "ed={'TSTEP': aconc[0].TSTEP}\n",
    "for i in range(0,len(moded)):\n",
    "    ed[modnames[i]] = aconc[i].variables[param][:,:,:].mean(dim=['LAT', 'LON'])\n",
    "ed_df = pd.DataFrame(ed)\n",
    "ed_df.set_index('TSTEP', inplace=True)\n",
    "ed_df=ed_df.stack()\n",
    "ed_df = pd.DataFrame(ed_df.reset_index())\n",
    "ed_df.columns = ['dt','HTAP_V2','qar']\n",
    "\n",
    "pt={'TSTEP': aconc[0].TSTEP}\n",
    "for i in range(len(moded),len(moded)+len(modpt)):\n",
    "    pt[modptnames[i-4]] = aconc[i].variables[param][:,:,:].mean(dim=['LAT', 'LON'])\n",
    "pt_df = pd.DataFrame(pt)\n",
    "pt_df.set_index('TSTEP', inplace=True)\n",
    "pt_df=pt_df.stack()\n",
    "pt_df = pd.DataFrame(pt_df.reset_index())\n",
    "pt_df.columns = ['dt','Local+HTAP','qar']\n",
    "\n",
    "fig, axes = plt.subplots(ncols=2, nrows=1, figsize=(14,5), sharey=True) \n",
    "fig.suptitle(param+' QAR: '+mesplt+' '+gradeplt, fontsize=12)\n",
    "sns.despine()\n",
    "sns.set_style(\"whitegrid\")\n",
    "sns.lineplot(x=ed_df['dt'], y=ed_df['qar'], hue=ed_df['HTAP_V2'],\n",
    "             palette='viridis_r',\n",
    "             markers=True,\n",
    "             style=ed_df['HTAP_V2'],\n",
    "             ci=None,\n",
    "             ax=axes[0])\n",
    "sns.lineplot(x=pt_df['dt'], y=pt_df['qar'], hue=pt_df['Local+HTAP'], \n",
    "             palette='magma_r',\n",
    "             markers=True,\n",
    "             style=pt_df['Local+HTAP'],\n",
    "             ci=None,\n",
    "             ax=axes[1])\n",
    "axes[0].set_xlabel('Médias Horárias')\n",
    "axes[1].set_xlabel('Médias Horárias')\n",
    "axes[0].legend()\n",
    "axes[1].legend(labels=pt_df['Local+HTAP'].unique())\n",
    "axes[0].set_ylabel(aconc[i].variables[param].attrs['units'])\n",
    "fig.tight_layout()\n"
   ]
  },
  {
   "cell_type": "code",
   "execution_count": null,
   "metadata": {},
   "outputs": [],
   "source": [
    "param = 'O3_UGM3'\n",
    "mesplt = mes[date_index]\n",
    "gradeplt = grade\n",
    "\n",
    "ed={'TSTEP': aconc[0].TSTEP}\n",
    "for i in range(0,len(moded)):\n",
    "    ed[modnames[i]] = aconc[i].variables[param][:,:,:].mean(dim=['LAT', 'LON'])\n",
    "ed_df = pd.DataFrame(ed)\n",
    "ed_df.set_index('TSTEP', inplace=True)\n",
    "ed_df=ed_df.stack()\n",
    "ed_df = pd.DataFrame(ed_df.reset_index())\n",
    "ed_df.columns = ['dt','HTAP_V2','qar']\n",
    "\n",
    "pt={'TSTEP': aconc[0].TSTEP}\n",
    "for i in range(len(moded),len(moded)+len(modpt)):\n",
    "    pt[modptnames[i-4]] = aconc[i].variables[param][:,:,:].mean(dim=['LAT', 'LON'])\n",
    "pt_df = pd.DataFrame(pt)\n",
    "pt_df.set_index('TSTEP', inplace=True)\n",
    "pt_df=pt_df.stack()\n",
    "pt_df = pd.DataFrame(pt_df.reset_index())\n",
    "pt_df.columns = ['dt','Local+HTAP','qar']\n",
    "\n",
    "fig, axes = plt.subplots(ncols=2, nrows=1, figsize=(14,5), sharey=True) \n",
    "fig.suptitle(param+' QAR: '+mesplt+' '+gradeplt, fontsize=12)\n",
    "sns.despine()\n",
    "sns.set_style(\"whitegrid\")\n",
    "sns.lineplot(x=ed_df['dt'], y=ed_df['qar'], hue=ed_df['HTAP_V2'],\n",
    "             palette='viridis_r',\n",
    "             markers=True,\n",
    "             style=ed_df['HTAP_V2'],\n",
    "             ci=None,\n",
    "             ax=axes[0])\n",
    "sns.lineplot(x=pt_df['dt'], y=pt_df['qar'], hue=pt_df['Local+HTAP'], \n",
    "             palette='magma_r',\n",
    "             markers=True,\n",
    "             style=pt_df['Local+HTAP'],\n",
    "             ci=None,\n",
    "             ax=axes[1])\n",
    "axes[0].set_xlabel('Médias Horárias')\n",
    "axes[1].set_xlabel('Médias Horárias')\n",
    "axes[0].legend()\n",
    "axes[1].legend(labels=pt_df['Local+HTAP'].unique())\n",
    "axes[0].set_ylabel(aconc[i].variables[param].attrs['units'])\n",
    "fig.tight_layout()\n"
   ]
  },
  {
   "cell_type": "code",
   "execution_count": null,
   "metadata": {
    "collapsed": true
   },
   "outputs": [],
   "source": []
  },
  {
   "cell_type": "code",
   "execution_count": null,
   "metadata": {
    "collapsed": true
   },
   "outputs": [],
   "source": []
  }
 ],
 "metadata": {
  "kernelspec": {
   "display_name": "Python 3",
   "language": "python",
   "name": "python3"
  },
  "language_info": {
   "codemirror_mode": {
    "name": "ipython",
    "version": 3
   },
   "file_extension": ".py",
   "mimetype": "text/x-python",
   "name": "python",
   "nbconvert_exporter": "python",
   "pygments_lexer": "ipython3",
   "version": "3.7.3"
  },
  "toc": {
   "base_numbering": 1,
   "nav_menu": {},
   "number_sections": true,
   "sideBar": true,
   "skip_h1_title": false,
   "title_cell": "Table of Contents",
   "title_sidebar": "Contents",
   "toc_cell": false,
   "toc_position": {},
   "toc_section_display": true,
   "toc_window_display": false
  },
  "varInspector": {
   "cols": {
    "lenName": 16,
    "lenType": 16,
    "lenVar": 40
   },
   "kernels_config": {
    "python": {
     "delete_cmd_postfix": "",
     "delete_cmd_prefix": "del ",
     "library": "var_list.py",
     "varRefreshCmd": "print(var_dic_list())"
    },
    "r": {
     "delete_cmd_postfix": ") ",
     "delete_cmd_prefix": "rm(",
     "library": "var_list.r",
     "varRefreshCmd": "cat(var_dic_list()) "
    }
   },
   "oldHeight": 459,
   "position": {
    "height": "40px",
    "left": "1080px",
    "right": "20px",
    "top": "79px",
    "width": "266px"
   },
   "types_to_exclude": [
    "module",
    "function",
    "builtin_function_or_method",
    "instance",
    "_Feature"
   ],
   "varInspector_section_display": "none",
   "window_display": false
  }
 },
 "nbformat": 4,
 "nbformat_minor": 2
}
