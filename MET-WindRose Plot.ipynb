{
 "cells": [
  {
   "cell_type": "markdown",
   "metadata": {},
   "source": [
    "# WindRose Plot"
   ]
  },
  {
   "cell_type": "code",
   "execution_count": 682,
   "metadata": {},
   "outputs": [
    {
     "name": "stdout",
     "output_type": "stream",
     "text": [
      "3.4.1\n"
     ]
    },
    {
     "data": {
      "text/html": [
       "<script type=\"text/javascript\">window.PlotlyConfig = {MathJaxConfig: 'local'};</script><script type=\"text/javascript\">if (window.MathJax) {MathJax.Hub.Config({SVG: {font: \"STIX-Web\"}});}</script><script>requirejs.config({paths: { 'plotly': ['https://cdn.plot.ly/plotly-latest.min']},});if(!window._Plotly) {require(['plotly'],function(plotly) {window._Plotly=plotly;});}</script>"
      ],
      "text/vnd.plotly.v1+html": [
       "<script type=\"text/javascript\">window.PlotlyConfig = {MathJaxConfig: 'local'};</script><script type=\"text/javascript\">if (window.MathJax) {MathJax.Hub.Config({SVG: {font: \"STIX-Web\"}});}</script><script>requirejs.config({paths: { 'plotly': ['https://cdn.plot.ly/plotly-latest.min']},});if(!window._Plotly) {require(['plotly'],function(plotly) {window._Plotly=plotly;});}</script>"
      ]
     },
     "metadata": {},
     "output_type": "display_data"
    }
   ],
   "source": [
    "import pandas as pd\n",
    "from netCDF4 import Dataset\n",
    "from mpl_toolkits.basemap import Basemap\n",
    "import seaborn as sns\n",
    "import datetime as dt\n",
    "from bisect import bisect_left\n",
    "import math\n",
    "%matplotlib inline\n",
    "import colorlover as cl\n",
    "import numpy as np\n",
    "import plotly\n",
    "import plotly.io as pio\n",
    "import plotly.plotly as py\n",
    "import plotly.graph_objs as go\n",
    "import matplotlib.pyplot as plt\n",
    "from plotly import __version__\n",
    "from plotly.offline import download_plotlyjs, init_notebook_mode, plot, iplot\n",
    "print (__version__) # requires version >= 1.9.0\n",
    "plotly.tools.set_credentials_file(username='fmmaciel', api_key='6Tuz22MRwaqXLIHcB77V')\n",
    "init_notebook_mode(connected=True)\n",
    "\n",
    "def takeClosest(myList, myNumber):\n",
    "    \"\"\"\n",
    "    Assumes myList is sorted. Returns closest value to myNumber.\n",
    "    If two numbers are equally close, return the smallest number.\n",
    "    \"\"\"\n",
    "    pos = bisect_left(myList, myNumber)\n",
    "    if pos == 0:\n",
    "        return myList[0]\n",
    "    if pos == len(myList):\n",
    "        return myList[-1]\n",
    "    before = myList[pos - 1]\n",
    "    after = myList[pos]\n",
    "    if after - myNumber < myNumber - before:\n",
    "       return after\n",
    "    else:\n",
    "       return before\n",
    "\n",
    "def deg2Compass(num):\n",
    "    val=int((num/22.5)+.5)\n",
    "    arr=[\"N\",\"NNE\",\"NE\",\"ENE\",\"E\",\"ESE\", \"SE\", \"SSE\",\"S\",\"SSO\",\"SO\",\"OSO\",\"O\",\"ONO\",\"NO\",\"NNO\"]\n",
    "    return arr[(val % 16)]\n",
    "\n",
    "def windvelBins(vel):\n",
    "    limits = [0.5, 1, 2, 3, 4, 5, 6, 7]\n",
    "    bins = ['calm', '0,5-1','1-2','2-3','3-4','4-5','5-6','6-7','7+']\n",
    "    for i in range(0,len(limits)):\n",
    "        if vel < limits[i]:\n",
    "            return bins[i]\n",
    "    return bins[-1]"
   ]
  },
  {
   "cell_type": "code",
   "execution_count": 683,
   "metadata": {
    "collapsed": true
   },
   "outputs": [],
   "source": [
    "directory = str('D:/Mestrado/1.Resultados/Meteorologia/')\n",
    "output = str('C:/Users/50033096/OneDrive - ArcelorMittal/Mestrado UFMG/1. DISSERTAÇÃO/ACT/')\n",
    "mes   = ['jan','jul']\n",
    "data  = ['01-09','07-24']\n",
    "periodo = ['Verão', 'Inverno']\n",
    "grade = 'd04'\n",
    "#modelagens = ['andrade2015','rizzieri2016','rizzieri2016_nudge','silvajunior2009']\n",
    "modelagens = ['andrade2015','rizzieri2016','rizzieri2016_nudge']\n",
    "mod_var = ['T2']\n",
    "est_var = ['temp','ur', 'wind_vel','wind_dir', 'prec']\n",
    "spinup = 48\n",
    "gmt = 3\n",
    "date_index = 0"
   ]
  },
  {
   "cell_type": "code",
   "execution_count": 684,
   "metadata": {
    "collapsed": true
   },
   "outputs": [],
   "source": [
    "#DADOS ESTACAO\n",
    "estacao     = 'SP_A726_PIRACICABA'\n",
    "estcidade   = 'PIRACICABA'\n",
    "estlat      = -22.703132\n",
    "estlon      = -47.623317\n",
    "altitude    = 566\n",
    "est = pd.read_csv(directory+'arqEstacao/'+estacao+'.csv', delimiter=';')\n",
    "est['datetime'] = (est['year'].map(str)+'-'+\n",
    "                  est['month'].map(str)+'-'+\n",
    "                  est['day'].map(str)+'-'+\n",
    "                  est['hour'].map(str))\n",
    "est['datetime'] = est['datetime'].apply(lambda x: dt.datetime.strptime(x,'%Y-%m-%d-%H'))\n",
    "est.set_index('datetime',inplace=True)\n",
    "\n",
    "#DADOS RODADAS\n",
    "rodada=[]\n",
    "for mod in modelagens:\n",
    "    rodada.append(Dataset(directory+'arqWRF/'+mes[date_index]+\n",
    "                        '/wrf_fnl_pira_'+mod+\n",
    "                        '_'+mes[date_index]+\n",
    "                        '/wrfout_'+grade+\n",
    "                        '_2015-'+data[date_index]+'_00%3A00%3A00'))\n",
    "\n",
    "#CROP DE DATA E COORDENADAS PARA POSICIONAR ESTAÇÃO\n",
    "time_i   = dt.datetime.strptime(rodada[0].START_DATE,'%Y-%m-%d_%H:%M:%S')\n",
    "lats     = rodada[0].variables['XLAT'][0,:,:]\n",
    "longs    = rodada[0].variables['XLONG'][0,:,:]\n",
    "if (estlat > np.amin(lats) and\n",
    "    estlat < np.amax(lats) and\n",
    "    estlon > np.amin(longs)and\n",
    "    estlon < np.amax(longs)):                \n",
    "    esty     = lats[:,0].tolist().index(takeClosest(lats[:,0],estlat))     #index Lat da estação no domínio\n",
    "    estx     = longs[0,:].tolist().index(takeClosest(longs[0,:],estlon))"
   ]
  },
  {
   "cell_type": "code",
   "execution_count": 685,
   "metadata": {
    "collapsed": true
   },
   "outputs": [],
   "source": [
    "# Iniciar DF com dados da Estação, usando est_param\n",
    "windveldf = pd.DataFrame(est[time_i:time_i+dt.timedelta(hours=rodada[0].dimensions['Time'].size-1)]['wind_vel'])\n",
    "winddirdf = pd.DataFrame(est[time_i:time_i+dt.timedelta(hours=rodada[0].dimensions['Time'].size-1)]['wind_dir'])\n",
    "urdf['press']      = pd.DataFrame(est[time_i:time_i+dt.timedelta(hours=rodada[0].dimensions['Time'].size-1)]['press'])\n",
    "\n",
    "# Tratar valores 0 \n",
    "windveldf = windveldf.applymap(lambda x: np.nan if x == -999 else x)\n",
    "winddirdf = winddirdf.applymap(lambda x: np.nan if x == -999 else x)\n",
    "\n",
    "# Converter dados da estação em -180 a 180\n",
    "winddirdf = winddirdf.applymap(lambda x: x - 360 if x > 180 else x)\n",
    "\n",
    "# MODELAGENS \n",
    "# Buscar dados das modelagens, usando mod_param\n",
    "for i in range(0,len(modelagens)):\n",
    "# VENTOS   \n",
    "    u10 = 'U10'+modelagens[i]\n",
    "    v10 = 'V10'+modelagens[i]\n",
    "    # Calcula Velocidade\n",
    "    windveldf[u10] = pd.Series(rodada[i].variables['U10'][:,esty,estx], index=windveldf.index)\n",
    "    windveldf[v10] = pd.Series(rodada[i].variables['V10'][:,esty,estx], index=windveldf.index)\n",
    "    windveldf[modelagens[i]] = ((windveldf[u10]**2 + windveldf[v10]**2)**0.5)\n",
    "    windveldf.drop(columns=[u10,v10], inplace=True)\n",
    "    # Calcula Direção\n",
    "    winddirdf[u10] = pd.Series(rodada[i].variables['U10'][:,esty,estx], index=winddirdf.index)\n",
    "    winddirdf[v10] = pd.Series(rodada[i].variables['V10'][:,esty,estx], index=winddirdf.index) \n",
    "    direc = []\n",
    "    for row in range(0,len(winddirdf)):\n",
    "        if winddirdf[u10].iloc[row] > 0:\n",
    "            d = 90 - ((180.0/np.pi) * math.atan(winddirdf[v10].iloc[row]/winddirdf[u10].iloc[row])) + 180\n",
    "            if d > 180:\n",
    "                d = d - 360\n",
    "                direc.append(d)\n",
    "            else:\n",
    "                direc.append(d)\n",
    "        else:\n",
    "            d = 90 - ((180.0/np.pi) * math.atan(winddirdf[v10].iloc[row]/winddirdf[u10].iloc[row]))\n",
    "            if d > 180:\n",
    "                d = d - 360\n",
    "                direc.append(d)\n",
    "            else:\n",
    "                direc.append(d)\n",
    "    winddirdf[modelagens[i]] = pd.Series(direc, index=winddirdf.index)\n",
    "    winddirdf.drop(columns=[u10,v10], inplace=True)\n",
    "      \n",
    "# RENOMEAR COLUNAS DA ESTACAO\n",
    "windveldf.rename(columns={'wind_vel': estacao}, inplace=True)\n",
    "winddirdf.rename(columns={'wind_dir': estacao}, inplace=True)"
   ]
  },
  {
   "cell_type": "code",
   "execution_count": 671,
   "metadata": {
    "collapsed": true
   },
   "outputs": [],
   "source": [
    "windveldf.drop(windveldf.index[:spinup] | windveldf.index[spinup+24*7:], inplace=True)\n",
    "winddirdf.drop(winddirdf.index[:spinup] | winddirdf.index[spinup+24*7:], inplace=True)"
   ]
  },
  {
   "cell_type": "code",
   "execution_count": 672,
   "metadata": {
    "collapsed": true
   },
   "outputs": [],
   "source": [
    "windveldf.index -= pd.Timedelta(gmt,'h')\n",
    "winddirdf.index -= pd.Timedelta(gmt,'h')"
   ]
  },
  {
   "cell_type": "code",
   "execution_count": 673,
   "metadata": {
    "collapsed": true
   },
   "outputs": [],
   "source": [
    "# Velocidade do Vento\n",
    "stackdf = windveldf.stack()\n",
    "stackdf = pd.DataFrame(stackdf.reset_index())\n",
    "stackdf.columns = ['dt','rodadas','windvel']\n",
    "\n",
    "stackdir = winddirdf.stack()\n",
    "stackdir = pd.DataFrame(stackdir.reset_index())\n",
    "stackdir.columns = ['dt','rodadas','winddir']\n",
    "stackdf['winddir'] = stackdir['winddir']\n",
    "stackdf['winddir'] = stackdf['winddir'].apply(lambda x: x+360 if x<0 else x)"
   ]
  },
  {
   "cell_type": "code",
   "execution_count": 688,
   "metadata": {
    "collapsed": true
   },
   "outputs": [],
   "source": [
    "rod = stackdf.rodadas.unique()\n",
    "roduse = rod[3]"
   ]
  },
  {
   "cell_type": "code",
   "execution_count": 689,
   "metadata": {
    "collapsed": true
   },
   "outputs": [],
   "source": [
    "plotwind = stackdf[stackdf['rodadas']==roduse]\n",
    "plotwind = plotwind.copy()\n",
    "plotwind['r'] = plotwind['winddir'].apply(deg2Compass)\n",
    "plotwind['windvelBINS'] = plotwind['windvel'].apply(windvelBins)\n",
    "plotwind.drop(columns=['dt', 'rodadas', 'winddir','windvel'], inplace=True)\n",
    "plotwind['percent'] = np.ones(len(plotwind['windvelBINS']))/len(plotwind['windvelBINS'])\n",
    "plotwind = plotwind.pivot_table(index='r',columns='windvelBINS',aggfunc=sum)\n",
    "plotwind.fillna(value=0.0, inplace=True)\n",
    "cols=plotwind.columns.tolist()\n",
    "cols = cols[-1:] + cols[:-1]\n",
    "plotwind=plotwind[cols]\n",
    "plotwind.columns = plotwind.columns.droplevel()\n",
    "plotwind = plotwind.applymap(lambda x: x*100)\n",
    "plotwind.reset_index(inplace=True)\n",
    "sorter=[\"N\",\"NNE\",\"NE\",\"ENE\",\"E\",\"ESE\", \"SE\", \"SSE\",\"S\",\"SSO\",\"SO\",\"OSO\",\"O\",\"ONO\",\"NO\",\"NNO\"]\n",
    "sorterIndex = dict(zip(sorter,range(len(sorter))))\n",
    "plotwind['r_Rank'] = plotwind['r'].map(sorterIndex)\n",
    "plotwind.sort_values(by='r_Rank', inplace=True)\n",
    "plotwind.drop(columns='r_Rank', inplace=True)"
   ]
  },
  {
   "cell_type": "code",
   "execution_count": 676,
   "metadata": {},
   "outputs": [
    {
     "data": {
      "text/html": [
       "<div>\n",
       "<style scoped>\n",
       "    .dataframe tbody tr th:only-of-type {\n",
       "        vertical-align: middle;\n",
       "    }\n",
       "\n",
       "    .dataframe tbody tr th {\n",
       "        vertical-align: top;\n",
       "    }\n",
       "\n",
       "    .dataframe thead th {\n",
       "        text-align: right;\n",
       "    }\n",
       "</style>\n",
       "<table border=\"1\" class=\"dataframe\">\n",
       "  <thead>\n",
       "    <tr style=\"text-align: right;\">\n",
       "      <th>windvelBINS</th>\n",
       "      <th>r</th>\n",
       "      <th>calm</th>\n",
       "      <th>0,5-1</th>\n",
       "      <th>1-2</th>\n",
       "      <th>2-3</th>\n",
       "      <th>3-4</th>\n",
       "      <th>4-5</th>\n",
       "      <th>5-6</th>\n",
       "    </tr>\n",
       "  </thead>\n",
       "  <tbody>\n",
       "    <tr>\n",
       "      <th>3</th>\n",
       "      <td>N</td>\n",
       "      <td>1.190476</td>\n",
       "      <td>0.595238</td>\n",
       "      <td>6.547619</td>\n",
       "      <td>1.190476</td>\n",
       "      <td>0.000000</td>\n",
       "      <td>0.000000</td>\n",
       "      <td>0.000000</td>\n",
       "    </tr>\n",
       "    <tr>\n",
       "      <th>5</th>\n",
       "      <td>NNE</td>\n",
       "      <td>0.000000</td>\n",
       "      <td>0.595238</td>\n",
       "      <td>2.380952</td>\n",
       "      <td>0.595238</td>\n",
       "      <td>0.000000</td>\n",
       "      <td>0.000000</td>\n",
       "      <td>0.000000</td>\n",
       "    </tr>\n",
       "    <tr>\n",
       "      <th>4</th>\n",
       "      <td>NE</td>\n",
       "      <td>0.595238</td>\n",
       "      <td>1.190476</td>\n",
       "      <td>1.785714</td>\n",
       "      <td>0.000000</td>\n",
       "      <td>0.595238</td>\n",
       "      <td>0.000000</td>\n",
       "      <td>0.000000</td>\n",
       "    </tr>\n",
       "    <tr>\n",
       "      <th>1</th>\n",
       "      <td>ENE</td>\n",
       "      <td>0.000000</td>\n",
       "      <td>1.785714</td>\n",
       "      <td>10.119048</td>\n",
       "      <td>1.785714</td>\n",
       "      <td>0.000000</td>\n",
       "      <td>0.000000</td>\n",
       "      <td>0.000000</td>\n",
       "    </tr>\n",
       "    <tr>\n",
       "      <th>0</th>\n",
       "      <td>E</td>\n",
       "      <td>0.595238</td>\n",
       "      <td>1.190476</td>\n",
       "      <td>8.333333</td>\n",
       "      <td>4.761905</td>\n",
       "      <td>1.190476</td>\n",
       "      <td>0.000000</td>\n",
       "      <td>0.000000</td>\n",
       "    </tr>\n",
       "    <tr>\n",
       "      <th>2</th>\n",
       "      <td>ESE</td>\n",
       "      <td>0.595238</td>\n",
       "      <td>1.190476</td>\n",
       "      <td>0.595238</td>\n",
       "      <td>0.595238</td>\n",
       "      <td>1.785714</td>\n",
       "      <td>0.595238</td>\n",
       "      <td>0.000000</td>\n",
       "    </tr>\n",
       "    <tr>\n",
       "      <th>12</th>\n",
       "      <td>SE</td>\n",
       "      <td>0.000000</td>\n",
       "      <td>1.785714</td>\n",
       "      <td>0.000000</td>\n",
       "      <td>0.000000</td>\n",
       "      <td>0.595238</td>\n",
       "      <td>0.595238</td>\n",
       "      <td>1.785714</td>\n",
       "    </tr>\n",
       "    <tr>\n",
       "      <th>14</th>\n",
       "      <td>SSE</td>\n",
       "      <td>0.000000</td>\n",
       "      <td>0.595238</td>\n",
       "      <td>0.000000</td>\n",
       "      <td>0.595238</td>\n",
       "      <td>0.595238</td>\n",
       "      <td>0.000000</td>\n",
       "      <td>0.595238</td>\n",
       "    </tr>\n",
       "    <tr>\n",
       "      <th>11</th>\n",
       "      <td>S</td>\n",
       "      <td>0.000000</td>\n",
       "      <td>0.595238</td>\n",
       "      <td>0.595238</td>\n",
       "      <td>0.000000</td>\n",
       "      <td>0.000000</td>\n",
       "      <td>0.000000</td>\n",
       "      <td>0.595238</td>\n",
       "    </tr>\n",
       "    <tr>\n",
       "      <th>15</th>\n",
       "      <td>SSO</td>\n",
       "      <td>0.000000</td>\n",
       "      <td>0.595238</td>\n",
       "      <td>5.357143</td>\n",
       "      <td>2.380952</td>\n",
       "      <td>0.000000</td>\n",
       "      <td>0.000000</td>\n",
       "      <td>0.000000</td>\n",
       "    </tr>\n",
       "    <tr>\n",
       "      <th>13</th>\n",
       "      <td>SO</td>\n",
       "      <td>0.000000</td>\n",
       "      <td>0.595238</td>\n",
       "      <td>4.166667</td>\n",
       "      <td>4.166667</td>\n",
       "      <td>1.190476</td>\n",
       "      <td>0.595238</td>\n",
       "      <td>0.000000</td>\n",
       "    </tr>\n",
       "    <tr>\n",
       "      <th>10</th>\n",
       "      <td>OSO</td>\n",
       "      <td>0.000000</td>\n",
       "      <td>0.595238</td>\n",
       "      <td>1.190476</td>\n",
       "      <td>1.190476</td>\n",
       "      <td>0.595238</td>\n",
       "      <td>0.595238</td>\n",
       "      <td>0.000000</td>\n",
       "    </tr>\n",
       "    <tr>\n",
       "      <th>8</th>\n",
       "      <td>O</td>\n",
       "      <td>0.000000</td>\n",
       "      <td>0.595238</td>\n",
       "      <td>0.595238</td>\n",
       "      <td>0.595238</td>\n",
       "      <td>0.595238</td>\n",
       "      <td>0.000000</td>\n",
       "      <td>0.000000</td>\n",
       "    </tr>\n",
       "    <tr>\n",
       "      <th>9</th>\n",
       "      <td>ONO</td>\n",
       "      <td>0.000000</td>\n",
       "      <td>0.000000</td>\n",
       "      <td>0.000000</td>\n",
       "      <td>0.595238</td>\n",
       "      <td>0.000000</td>\n",
       "      <td>0.000000</td>\n",
       "      <td>0.000000</td>\n",
       "    </tr>\n",
       "    <tr>\n",
       "      <th>7</th>\n",
       "      <td>NO</td>\n",
       "      <td>0.000000</td>\n",
       "      <td>0.000000</td>\n",
       "      <td>1.785714</td>\n",
       "      <td>2.380952</td>\n",
       "      <td>0.000000</td>\n",
       "      <td>0.595238</td>\n",
       "      <td>0.000000</td>\n",
       "    </tr>\n",
       "    <tr>\n",
       "      <th>6</th>\n",
       "      <td>NNO</td>\n",
       "      <td>0.595238</td>\n",
       "      <td>0.000000</td>\n",
       "      <td>2.976190</td>\n",
       "      <td>4.166667</td>\n",
       "      <td>0.000000</td>\n",
       "      <td>0.000000</td>\n",
       "      <td>0.000000</td>\n",
       "    </tr>\n",
       "  </tbody>\n",
       "</table>\n",
       "</div>"
      ],
      "text/plain": [
       "windvelBINS    r      calm     0,5-1        1-2       2-3       3-4       4-5  \\\n",
       "3              N  1.190476  0.595238   6.547619  1.190476  0.000000  0.000000   \n",
       "5            NNE  0.000000  0.595238   2.380952  0.595238  0.000000  0.000000   \n",
       "4             NE  0.595238  1.190476   1.785714  0.000000  0.595238  0.000000   \n",
       "1            ENE  0.000000  1.785714  10.119048  1.785714  0.000000  0.000000   \n",
       "0              E  0.595238  1.190476   8.333333  4.761905  1.190476  0.000000   \n",
       "2            ESE  0.595238  1.190476   0.595238  0.595238  1.785714  0.595238   \n",
       "12            SE  0.000000  1.785714   0.000000  0.000000  0.595238  0.595238   \n",
       "14           SSE  0.000000  0.595238   0.000000  0.595238  0.595238  0.000000   \n",
       "11             S  0.000000  0.595238   0.595238  0.000000  0.000000  0.000000   \n",
       "15           SSO  0.000000  0.595238   5.357143  2.380952  0.000000  0.000000   \n",
       "13            SO  0.000000  0.595238   4.166667  4.166667  1.190476  0.595238   \n",
       "10           OSO  0.000000  0.595238   1.190476  1.190476  0.595238  0.595238   \n",
       "8              O  0.000000  0.595238   0.595238  0.595238  0.595238  0.000000   \n",
       "9            ONO  0.000000  0.000000   0.000000  0.595238  0.000000  0.000000   \n",
       "7             NO  0.000000  0.000000   1.785714  2.380952  0.000000  0.595238   \n",
       "6            NNO  0.595238  0.000000   2.976190  4.166667  0.000000  0.000000   \n",
       "\n",
       "windvelBINS       5-6  \n",
       "3            0.000000  \n",
       "5            0.000000  \n",
       "4            0.000000  \n",
       "1            0.000000  \n",
       "0            0.000000  \n",
       "2            0.000000  \n",
       "12           1.785714  \n",
       "14           0.595238  \n",
       "11           0.595238  \n",
       "15           0.000000  \n",
       "13           0.000000  \n",
       "10           0.000000  \n",
       "8            0.000000  \n",
       "9            0.000000  \n",
       "7            0.000000  \n",
       "6            0.000000  "
      ]
     },
     "execution_count": 676,
     "metadata": {},
     "output_type": "execute_result"
    }
   ],
   "source": [
    "plotwind"
   ]
  },
  {
   "cell_type": "code",
   "execution_count": 692,
   "metadata": {
    "collapsed": true
   },
   "outputs": [],
   "source": [
    "dat = []\n",
    "counter = 0\n",
    "colorsnum = 9\n",
    "cls = ['BuPu','PuBu','RdPu','YlOrBr']\n",
    "for col in plotwind.columns:\n",
    "    if col != 'r':\n",
    "        if col == 'calm':\n",
    "            n = col\n",
    "        else:\n",
    "            n = col+' m/s'\n",
    "        dat.append(\n",
    "            go.Area(t=plotwind['r'],\n",
    "                    r=plotwind[col],\n",
    "                    marker=dict(color=cl.scales[str(colorsnum)]['seq'][cls[1]][counter]),\n",
    "                    name=n ) )\n",
    "        counter+=1\n",
    "\n",
    "fig = go.Figure(data=dat, layout=go.Layout(orientation=270, barmode='stack', radialaxis=dict(ticksuffix='%', range=[0,20])))"
   ]
  },
  {
   "cell_type": "code",
   "execution_count": 693,
   "metadata": {
    "scrolled": true
   },
   "outputs": [
    {
     "data": {
      "text/html": [
       "<iframe id=\"igraph\" scrolling=\"no\" style=\"border:none;\" seamless=\"seamless\" src=\"https://plot.ly/~fmmaciel/100.embed\" height=\"525px\" width=\"100%\"></iframe>"
      ],
      "text/plain": [
       "<plotly.tools.PlotlyDisplay object>"
      ]
     },
     "execution_count": 693,
     "metadata": {},
     "output_type": "execute_result"
    }
   ],
   "source": [
    "py.iplot(fig)"
   ]
  },
  {
   "cell_type": "code",
   "execution_count": 694,
   "metadata": {
    "collapsed": true
   },
   "outputs": [],
   "source": [
    "pio.write_image(fig, output+'RosePlot_'+roduse+mes[date_index]+'.png')"
   ]
  },
  {
   "cell_type": "code",
   "execution_count": 680,
   "metadata": {},
   "outputs": [
    {
     "data": {
      "text/plain": [
       "'jan'"
      ]
     },
     "execution_count": 680,
     "metadata": {},
     "output_type": "execute_result"
    }
   ],
   "source": [
    "mes[date_index]"
   ]
  },
  {
   "cell_type": "code",
   "execution_count": 681,
   "metadata": {},
   "outputs": [
    {
     "data": {
      "text/plain": [
       "'rizzieri2016_nudge'"
      ]
     },
     "execution_count": 681,
     "metadata": {},
     "output_type": "execute_result"
    }
   ],
   "source": [
    "roduse"
   ]
  },
  {
   "cell_type": "code",
   "execution_count": null,
   "metadata": {
    "collapsed": true
   },
   "outputs": [],
   "source": []
  },
  {
   "cell_type": "code",
   "execution_count": 145,
   "metadata": {},
   "outputs": [
    {
     "data": {
      "text/plain": [
       "Index(['r', '0-1', '1-2', '2-3', '3-4', '4-4', '4-5', '5-6', '6+'], dtype='object')"
      ]
     },
     "execution_count": 145,
     "metadata": {},
     "output_type": "execute_result"
    }
   ],
   "source": []
  },
  {
   "cell_type": "code",
   "execution_count": null,
   "metadata": {
    "collapsed": true
   },
   "outputs": [],
   "source": []
  },
  {
   "cell_type": "code",
   "execution_count": 243,
   "metadata": {},
   "outputs": [
    {
     "data": {
      "text/html": [
       "<div>\n",
       "<style scoped>\n",
       "    .dataframe tbody tr th:only-of-type {\n",
       "        vertical-align: middle;\n",
       "    }\n",
       "\n",
       "    .dataframe tbody tr th {\n",
       "        vertical-align: top;\n",
       "    }\n",
       "\n",
       "    .dataframe thead th {\n",
       "        text-align: right;\n",
       "    }\n",
       "</style>\n",
       "<table border=\"1\" class=\"dataframe\">\n",
       "  <thead>\n",
       "    <tr style=\"text-align: right;\">\n",
       "      <th></th>\n",
       "      <th>r</th>\n",
       "      <th>0-1</th>\n",
       "      <th>1-2</th>\n",
       "      <th>2-3</th>\n",
       "      <th>3-4</th>\n",
       "      <th>4-4</th>\n",
       "      <th>4-5</th>\n",
       "      <th>5-6</th>\n",
       "      <th>6+</th>\n",
       "    </tr>\n",
       "  </thead>\n",
       "  <tbody>\n",
       "    <tr>\n",
       "      <th>0</th>\n",
       "      <td>N</td>\n",
       "      <td>0.5</td>\n",
       "      <td>1.6</td>\n",
       "      <td>0.9</td>\n",
       "      <td>0.9</td>\n",
       "      <td>0.4</td>\n",
       "      <td>0.30</td>\n",
       "      <td>0.20</td>\n",
       "      <td>0.10</td>\n",
       "    </tr>\n",
       "    <tr>\n",
       "      <th>1</th>\n",
       "      <td>NNE</td>\n",
       "      <td>0.6</td>\n",
       "      <td>1.8</td>\n",
       "      <td>1.3</td>\n",
       "      <td>0.8</td>\n",
       "      <td>0.5</td>\n",
       "      <td>0.30</td>\n",
       "      <td>0.10</td>\n",
       "      <td>0.10</td>\n",
       "    </tr>\n",
       "    <tr>\n",
       "      <th>2</th>\n",
       "      <td>NE</td>\n",
       "      <td>0.5</td>\n",
       "      <td>1.5</td>\n",
       "      <td>1.6</td>\n",
       "      <td>1.2</td>\n",
       "      <td>1.2</td>\n",
       "      <td>0.60</td>\n",
       "      <td>0.10</td>\n",
       "      <td>0.10</td>\n",
       "    </tr>\n",
       "    <tr>\n",
       "      <th>3</th>\n",
       "      <td>ENE</td>\n",
       "      <td>0.4</td>\n",
       "      <td>1.6</td>\n",
       "      <td>0.9</td>\n",
       "      <td>1.0</td>\n",
       "      <td>0.5</td>\n",
       "      <td>0.20</td>\n",
       "      <td>0.10</td>\n",
       "      <td>0.10</td>\n",
       "    </tr>\n",
       "    <tr>\n",
       "      <th>4</th>\n",
       "      <td>E</td>\n",
       "      <td>0.4</td>\n",
       "      <td>1.6</td>\n",
       "      <td>1.0</td>\n",
       "      <td>0.8</td>\n",
       "      <td>0.4</td>\n",
       "      <td>0.10</td>\n",
       "      <td>0.10</td>\n",
       "      <td>0.10</td>\n",
       "    </tr>\n",
       "    <tr>\n",
       "      <th>5</th>\n",
       "      <td>ESE</td>\n",
       "      <td>0.3</td>\n",
       "      <td>1.2</td>\n",
       "      <td>0.6</td>\n",
       "      <td>0.4</td>\n",
       "      <td>0.2</td>\n",
       "      <td>0.10</td>\n",
       "      <td>0.10</td>\n",
       "      <td>0.05</td>\n",
       "    </tr>\n",
       "    <tr>\n",
       "      <th>6</th>\n",
       "      <td>SE</td>\n",
       "      <td>0.4</td>\n",
       "      <td>1.5</td>\n",
       "      <td>0.6</td>\n",
       "      <td>0.5</td>\n",
       "      <td>0.4</td>\n",
       "      <td>0.05</td>\n",
       "      <td>0.05</td>\n",
       "      <td>0.05</td>\n",
       "    </tr>\n",
       "    <tr>\n",
       "      <th>7</th>\n",
       "      <td>SSE</td>\n",
       "      <td>0.4</td>\n",
       "      <td>1.7</td>\n",
       "      <td>0.9</td>\n",
       "      <td>0.5</td>\n",
       "      <td>0.4</td>\n",
       "      <td>0.10</td>\n",
       "      <td>0.05</td>\n",
       "      <td>0.05</td>\n",
       "    </tr>\n",
       "    <tr>\n",
       "      <th>8</th>\n",
       "      <td>S</td>\n",
       "      <td>0.6</td>\n",
       "      <td>2.2</td>\n",
       "      <td>1.4</td>\n",
       "      <td>0.8</td>\n",
       "      <td>0.7</td>\n",
       "      <td>0.10</td>\n",
       "      <td>0.10</td>\n",
       "      <td>0.05</td>\n",
       "    </tr>\n",
       "    <tr>\n",
       "      <th>9</th>\n",
       "      <td>SSW</td>\n",
       "      <td>0.4</td>\n",
       "      <td>2.0</td>\n",
       "      <td>1.7</td>\n",
       "      <td>0.9</td>\n",
       "      <td>0.6</td>\n",
       "      <td>0.20</td>\n",
       "      <td>0.05</td>\n",
       "      <td>0.10</td>\n",
       "    </tr>\n",
       "    <tr>\n",
       "      <th>10</th>\n",
       "      <td>SW</td>\n",
       "      <td>0.5</td>\n",
       "      <td>2.3</td>\n",
       "      <td>1.9</td>\n",
       "      <td>1.3</td>\n",
       "      <td>0.7</td>\n",
       "      <td>0.30</td>\n",
       "      <td>0.20</td>\n",
       "      <td>0.10</td>\n",
       "    </tr>\n",
       "    <tr>\n",
       "      <th>11</th>\n",
       "      <td>WSW</td>\n",
       "      <td>0.6</td>\n",
       "      <td>2.4</td>\n",
       "      <td>2.2</td>\n",
       "      <td>1.1</td>\n",
       "      <td>0.8</td>\n",
       "      <td>0.40</td>\n",
       "      <td>0.20</td>\n",
       "      <td>0.10</td>\n",
       "    </tr>\n",
       "    <tr>\n",
       "      <th>12</th>\n",
       "      <td>W</td>\n",
       "      <td>0.6</td>\n",
       "      <td>2.3</td>\n",
       "      <td>1.8</td>\n",
       "      <td>1.2</td>\n",
       "      <td>0.9</td>\n",
       "      <td>0.90</td>\n",
       "      <td>0.40</td>\n",
       "      <td>0.90</td>\n",
       "    </tr>\n",
       "    <tr>\n",
       "      <th>13</th>\n",
       "      <td>WNW</td>\n",
       "      <td>0.5</td>\n",
       "      <td>2.6</td>\n",
       "      <td>1.7</td>\n",
       "      <td>1.2</td>\n",
       "      <td>1.0</td>\n",
       "      <td>0.90</td>\n",
       "      <td>0.70</td>\n",
       "      <td>2.20</td>\n",
       "    </tr>\n",
       "    <tr>\n",
       "      <th>14</th>\n",
       "      <td>NW</td>\n",
       "      <td>0.4</td>\n",
       "      <td>2.3</td>\n",
       "      <td>1.8</td>\n",
       "      <td>1.3</td>\n",
       "      <td>1.0</td>\n",
       "      <td>0.90</td>\n",
       "      <td>0.70</td>\n",
       "      <td>1.50</td>\n",
       "    </tr>\n",
       "    <tr>\n",
       "      <th>15</th>\n",
       "      <td>NNW</td>\n",
       "      <td>0.1</td>\n",
       "      <td>0.8</td>\n",
       "      <td>0.8</td>\n",
       "      <td>1.0</td>\n",
       "      <td>0.7</td>\n",
       "      <td>0.30</td>\n",
       "      <td>0.40</td>\n",
       "      <td>0.20</td>\n",
       "    </tr>\n",
       "  </tbody>\n",
       "</table>\n",
       "</div>"
      ],
      "text/plain": [
       "      r  0-1  1-2  2-3  3-4  4-4   4-5   5-6    6+\n",
       "0     N  0.5  1.6  0.9  0.9  0.4  0.30  0.20  0.10\n",
       "1   NNE  0.6  1.8  1.3  0.8  0.5  0.30  0.10  0.10\n",
       "2    NE  0.5  1.5  1.6  1.2  1.2  0.60  0.10  0.10\n",
       "3   ENE  0.4  1.6  0.9  1.0  0.5  0.20  0.10  0.10\n",
       "4     E  0.4  1.6  1.0  0.8  0.4  0.10  0.10  0.10\n",
       "5   ESE  0.3  1.2  0.6  0.4  0.2  0.10  0.10  0.05\n",
       "6    SE  0.4  1.5  0.6  0.5  0.4  0.05  0.05  0.05\n",
       "7   SSE  0.4  1.7  0.9  0.5  0.4  0.10  0.05  0.05\n",
       "8     S  0.6  2.2  1.4  0.8  0.7  0.10  0.10  0.05\n",
       "9   SSW  0.4  2.0  1.7  0.9  0.6  0.20  0.05  0.10\n",
       "10   SW  0.5  2.3  1.9  1.3  0.7  0.30  0.20  0.10\n",
       "11  WSW  0.6  2.4  2.2  1.1  0.8  0.40  0.20  0.10\n",
       "12    W  0.6  2.3  1.8  1.2  0.9  0.90  0.40  0.90\n",
       "13  WNW  0.5  2.6  1.7  1.2  1.0  0.90  0.70  2.20\n",
       "14   NW  0.4  2.3  1.8  1.3  1.0  0.90  0.70  1.50\n",
       "15  NNW  0.1  0.8  0.8  1.0  0.7  0.30  0.40  0.20"
      ]
     },
     "execution_count": 243,
     "metadata": {},
     "output_type": "execute_result"
    }
   ],
   "source": []
  },
  {
   "cell_type": "code",
   "execution_count": 67,
   "metadata": {
    "collapsed": true
   },
   "outputs": [],
   "source": [
    "dat = []\n",
    "counter = 0\n",
    "for col in df.columns:\n",
    "    if col != 'r':\n",
    "        dat.append(\n",
    "            go.Area(t=df['r'],\n",
    "                    r=df[col],\n",
    "                    marker=dict(color=cl.scales['9']['seq']['PuBu'][counter]),\n",
    "                    name=col+' m/s' ) )\n",
    "        counter+=1\n",
    "\n",
    "fig = go.Figure(data=dat, layout=go.Layout(orientation=270, barmode='stack'))"
   ]
  },
  {
   "cell_type": "code",
   "execution_count": 40,
   "metadata": {
    "scrolled": true
   },
   "outputs": [
    {
     "data": {
      "text/html": [
       "<iframe id=\"igraph\" scrolling=\"no\" style=\"border:none;\" seamless=\"seamless\" src=\"https://plot.ly/~fmmaciel/2.embed\" height=\"525px\" width=\"100%\"></iframe>"
      ],
      "text/plain": [
       "<plotly.tools.PlotlyDisplay object>"
      ]
     },
     "execution_count": 40,
     "metadata": {},
     "output_type": "execute_result"
    }
   ],
   "source": [
    "py.iplot(fig)\n",
    "pio.write_image(fig, 'images/fig1.png')"
   ]
  },
  {
   "cell_type": "code",
   "execution_count": null,
   "metadata": {
    "collapsed": true
   },
   "outputs": [],
   "source": []
  },
  {
   "cell_type": "code",
   "execution_count": null,
   "metadata": {
    "collapsed": true
   },
   "outputs": [],
   "source": [
    "df = pd.read_csv('https://raw.githubusercontent.com/plotly/datasets/master/wind_rose.csv')\n",
    "df.columns"
   ]
  }
 ],
 "metadata": {
  "kernelspec": {
   "display_name": "Python 3",
   "language": "python",
   "name": "python3"
  },
  "language_info": {
   "codemirror_mode": {
    "name": "ipython",
    "version": 3
   },
   "file_extension": ".py",
   "mimetype": "text/x-python",
   "name": "python",
   "nbconvert_exporter": "python",
   "pygments_lexer": "ipython3",
   "version": "3.6.3"
  },
  "varInspector": {
   "cols": {
    "lenName": 16,
    "lenType": 16,
    "lenVar": 40
   },
   "kernels_config": {
    "python": {
     "delete_cmd_postfix": "",
     "delete_cmd_prefix": "del ",
     "library": "var_list.py",
     "varRefreshCmd": "print(var_dic_list())"
    },
    "r": {
     "delete_cmd_postfix": ") ",
     "delete_cmd_prefix": "rm(",
     "library": "var_list.r",
     "varRefreshCmd": "cat(var_dic_list()) "
    }
   },
   "types_to_exclude": [
    "module",
    "function",
    "builtin_function_or_method",
    "instance",
    "_Feature"
   ],
   "window_display": false
  }
 },
 "nbformat": 4,
 "nbformat_minor": 2
}
