{
 "cells": [
  {
   "cell_type": "markdown",
   "metadata": {
    "slideshow": {
     "slide_type": "slide"
    }
   },
   "source": [
    "# Códigos para Plotar Informações de Emissões\n",
    "## Plotando Jan-d04_PT\n",
    "## Opções EDGAR "
   ]
  },
  {
   "cell_type": "markdown",
   "metadata": {
    "slideshow": {
     "slide_type": "slide"
    }
   },
   "source": [
    "Carregar saídas SMOKE para demonstrar perfis de emissões, considerando região de RMSP e Piracicaba"
   ]
  },
  {
   "cell_type": "code",
   "execution_count": 49,
   "metadata": {
    "collapsed": true,
    "slideshow": {
     "slide_type": "slide"
    }
   },
   "outputs": [],
   "source": [
    "import pandas as pd\n",
    "from netCDF4 import Dataset\n",
    "import xarray as xr\n",
    "import numpy as np\n",
    "import matplotlib.pyplot as plt\n",
    "from mpl_toolkits.basemap import Basemap\n",
    "from matplotlib.collections import PatchCollection\n",
    "from matplotlib.patches import Polygon\n",
    "import seaborn as sns\n",
    "import datetime as dt\n",
    "%matplotlib inline"
   ]
  },
  {
   "cell_type": "markdown",
   "metadata": {
    "slideshow": {
     "slide_type": "slide"
    }
   },
   "source": [
    "## *Entradas*\n",
    "* Selecionar arquivos de origem para preparar figuras.\n",
    "* Inicializar variáveis para figuras.\n",
    "\n",
    "### Parametrização dos arquivos de entrada\n",
    "\n",
    "Ajustar diretório que contem os arquivos, nomes de rodadas, e shapefiles a serem plotados"
   ]
  },
  {
   "cell_type": "code",
   "execution_count": 50,
   "metadata": {
    "collapsed": true,
    "slideshow": {
     "slide_type": "subslide"
    }
   },
   "outputs": [],
   "source": [
    "directory = str('D:/Mestrado/1.Resultados/Emissoes/')\n",
    "wrfdir = str('D:/Mestrado/1.Resultados/Meteorologia/')\n",
    "mes   = ['jan','jul']\n",
    "grade = ['d01_27km','d02_9km','d03_3km','d04_1km']\n",
    "data  = ['20150109','20150724']\n",
    "datawrf  = ['01-09','07-24']\n",
    "modelagens = ['COMBO','AIR','INDUSTRY','ENERGY','RESIDENTIAL','SHIPS','TRANSPORT']\n",
    "ptind = ['INV_Industrial_Local']\n",
    "shapes = ['pirashape','RMSP']\n",
    "spinup = 48\n",
    "run_len = 24*7\n",
    "gmt = 3\n",
    "mes_index = 1\n",
    "grid_index = 3\n",
    "\n",
    "#pt.jan.d04_1km\\pgts3d_l.pt.20150109.9.d04.pira.PT"
   ]
  },
  {
   "cell_type": "markdown",
   "metadata": {
    "slideshow": {
     "slide_type": "slide"
    }
   },
   "source": [
    "## Abrir arquivos SMOKE"
   ]
  },
  {
   "cell_type": "code",
   "execution_count": 51,
   "metadata": {
    "collapsed": true,
    "slideshow": {
     "slide_type": "subslide"
    }
   },
   "outputs": [],
   "source": [
    "mods = []\n",
    "for mod in modelagens:\n",
    "    mods.append(xr.open_dataset(directory+mes[mes_index]+'.'+grade[grid_index]+\n",
    "                                '/agts_l.edgar.'+data[mes_index]+'.9.'+\n",
    "                                grade[grid_index][:3]+'.htapv2.'+mod+'.ncf'))\n",
    "mods.append(xr.open_dataset(directory+'pt.'+mes[mes_index]+'.'+grade[grid_index]+\n",
    "                           '/pgts3d_l.pt.'+data[mes_index]+'.9.'+grade[grid_index][:3]+\n",
    "                            '.pira.PT.ncf'))\n",
    "for i in range(0,len(mods)):\n",
    "    mods[i] = mods[i].isel(LAY=0)\n",
    "modelagens.append(ptind[0])"
   ]
  },
  {
   "cell_type": "markdown",
   "metadata": {
    "slideshow": {
     "slide_type": "slide"
    }
   },
   "source": [
    "## Abrir arquivo WRF para buscar valores de LAT / LON"
   ]
  },
  {
   "cell_type": "code",
   "execution_count": 52,
   "metadata": {
    "collapsed": true,
    "slideshow": {
     "slide_type": "fragment"
    }
   },
   "outputs": [],
   "source": [
    "nc_wrf = Dataset(wrfdir+'arqWRF/'+mes[mes_index]+'/wrf_fnl_pira_pedruzzi2016_nudge_'+\n",
    "                 mes[mes_index]+'/wrfout_'+grade[grid_index][:3]+'_2015-'+datawrf[mes_index]+'_00%3A00%3A00')"
   ]
  },
  {
   "cell_type": "markdown",
   "metadata": {
    "slideshow": {
     "slide_type": "slide"
    }
   },
   "source": [
    "## Preparar coordenadas para XArray\n",
    "* DATAS\n",
    "* ALTITUDE\n",
    "* LATITUDE\n",
    "* LONGITUDE"
   ]
  },
  {
   "cell_type": "code",
   "execution_count": 53,
   "metadata": {
    "collapsed": true,
    "slideshow": {
     "slide_type": "subslide"
    }
   },
   "outputs": [],
   "source": [
    "# DATAS\n",
    "dates = [dt.datetime.strptime(str(mods[0].attrs['SDATE']),'%Y%j')]\n",
    "for i in range(1,mods[0].dims['TSTEP']):\n",
    "    dates.append(dates[0]+dt.timedelta(hours=i))\n",
    "\n",
    "# LATITUDE\n",
    "# LONGITUDE\n",
    "croplat = int((nc_wrf.dimensions['south_north'].size-mods[0].dims['ROW'])/2)\n",
    "croplon = int((nc_wrf.dimensions['south_north'].size-mods[0].dims['ROW'])/2)\n",
    "lats      = nc_wrf.variables['XLAT'][0,croplat:-croplat,croplat:-croplat]\n",
    "longs     = nc_wrf.variables['XLONG'][0,croplon:-croplon,croplon:-croplon]\n",
    "\n",
    "# PLOT CORNERS\n",
    "llcrnrlon = np.min(longs)      #longitude of lower left hand corner of the selected map domain.\n",
    "llcrnrlat = np.min(lats)       #latitude of upper right hand corner of the desired map domain (degrees).\n",
    "urcrnrlon = np.max(longs)      #longitude of upper right hand corner of the selected map domain.\n",
    "urcrnrlat = np.max(lats)      #latitude of upper right hand corner of the selected map domain.\n",
    "\n",
    "coordlat  = np.linspace(llcrnrlat,urcrnrlat,num=mods[0].dims['ROW'])\n",
    "coordlon  = np.linspace(llcrnrlon,urcrnrlon,num=mods[0].dims['COL'])\n",
    "\n",
    "\n",
    "# ADJUSTMENTS\n",
    "for m in mods:\n",
    "    m.coords['TSTEP'] = dates\n",
    "    m.coords['ROW'] = coordlat\n",
    "    m.coords['COL'] = coordlon\n",
    "    m.rename({'ROW': 'LAT', 'COL': 'LON'}, inplace=True)\n",
    "    for var in m.variables:\n",
    "        if 'units' in m.variables[var].attrs:\n",
    "            m.variables[var].attrs['units'] = m.variables[var].attrs['units'].split()[0]\n"
   ]
  },
  {
   "cell_type": "markdown",
   "metadata": {},
   "source": [
    "## Ajuste de tempo\n",
    "* Crop de datas\n",
    "* Ajuste para horário local\n",
    "* Cria nomenclatura weekd"
   ]
  },
  {
   "cell_type": "code",
   "execution_count": 54,
   "metadata": {
    "collapsed": true
   },
   "outputs": [],
   "source": [
    "for i in range(0,len(mods)):\n",
    "    # slice spinup e tamanho da rodada\n",
    "    mods[i] = mods[i].isel(TSTEP=slice(spinup,spinup+run_len))\n",
    "    # ajuste para horário local\n",
    "    mods[i].coords['TSTEP'] -= pd.Timedelta(gmt,'h')\n",
    "# Cria variaveis de weekend\n",
    "weekd=[]\n",
    "for d in mods[0].TSTEP.dt.weekday:\n",
    "    if d < 5:\n",
    "        weekd.append('Dias da Semana')\n",
    "    else:\n",
    "        weekd.append('Fim de Semana')"
   ]
  },
  {
   "cell_type": "markdown",
   "metadata": {},
   "source": [
    "## Preparar variáveis agregadas de emissões \n",
    "O objetivo é comparar com o inventário de emissões da CETESB  \n",
    "https://cetesb.sp.gov.br/ar/wp-content/uploads/sites/28/2013/12/RQAR-2015.pdf\n",
    "\n",
    "* **CO  --> Variables ['CO']**\n",
    "* **HC  --> VOC --> Variable ['VOC']**  \n",
    "    *ALD2, ALDX, BENZENE, ETH, ETHA, ETOH, FORM, IOLE, ISOP, MEOH, NAPH, NVOL, OLE, PAR, SOAALK, TERP, TOL, UNR, XYLMN*\n",
    "* **NOx --> Variable['NOx']**  \n",
    "    *HONO, NO, NO2*\n",
    "* **MP  --> Variable['MP']**  \n",
    "    *PAL, PCA, PCL, PFE, PH2O, PK, PMG, PMN, PMOTHR, PNA, PNCOM, PNH4, PNO3, PSI, PSO4, PTI, PMC, PEC, POC, PMFINE*\n",
    "* **SOx --> Variable['SOx']**  \n",
    "    *SO2, SULF*"
   ]
  },
  {
   "cell_type": "code",
   "execution_count": 55,
   "metadata": {
    "code_folding": [
     15,
     26,
     37,
     48
    ],
    "collapsed": true
   },
   "outputs": [],
   "source": [
    "VOCvar = ['ALD2' , 'ALDX', 'BENZENE', 'ETH'   , 'ETHA'  , \n",
    "          'ETOH' , 'FORM', 'IOLE'   , 'ISOP'  , 'MEOH'  , \n",
    "          'NAPH' , 'NVOL', 'OLE'    , 'PAR'   , 'SOAALK', \n",
    "          'TERP' , 'TOL' , 'UNR'    , 'XYLMN']\n",
    "NOxvar = ['HONO' , 'NO'  , 'NO2']\n",
    "MPvar  = ['PAL'  , 'PCA' , 'PCL'    , 'PFE'   , 'PH2O'  , \n",
    "          'PK'   , 'PMG' , 'PMN'    , 'PMOTHR', 'PNA'   ,\n",
    "          'PNCOM', 'PNH4', 'PNO3'   , 'PSI'   , 'PSO4'  , \n",
    "          'PTI'  , 'PMC' , 'PEC'    , 'POC'   , 'PMFINE']\n",
    "SOxvar = ['SO2'  , 'SULF']\n",
    "cVOC = []\n",
    "cNOx = []\n",
    "cMP  = []\n",
    "cSOx = []\n",
    "for m in range(0, len(mods)):\n",
    "# VOC\n",
    "    #Inicializar\n",
    "    cVOC.append(mods[m].variables[VOCvar[0]]+mods[m].variables[VOCvar[1]])\n",
    "    #Unir todas as variáveis\n",
    "    for i in range(2,len(VOCvar)):\n",
    "        if VOCvar[i] in mods[m].variables:\n",
    "            cVOC[m] += mods[m].variables[VOCvar[i]]\n",
    "    # Assign variable\n",
    "    mods[m] = mods[m].assign(variables={'VOC':(cVOC[m])})\n",
    "    mods[m].variables['VOC'].attrs['units'] = mods[m].variables[VOCvar[0]].attrs['units']\n",
    "    mods[m].variables['VOC'].attrs['long_name'] = 'VOC Calculado'\n",
    "# NOX\n",
    "    #Inicializar\n",
    "    cNOx.append(mods[m].variables[NOxvar[0]]+mods[m].variables[NOxvar[1]])\n",
    "    #Unir todas as variáveis\n",
    "    for i in range(2,len(NOxvar)):\n",
    "        if NOxvar[i] in mods[m].variables:\n",
    "            cNOx[m] += mods[m].variables[NOxvar[i]]\n",
    "    # Assign variable\n",
    "    mods[m] = mods[m].assign(variables={'NOx':(cNOx[m])})\n",
    "    mods[m].variables['NOx'].attrs['units'] = mods[m].variables[NOxvar[0]].attrs['units']\n",
    "    mods[m].variables['NOx'].attrs['long_name'] = 'NOx calculado'\n",
    "# MP\n",
    "    #Inicializar\n",
    "    cMP.append(mods[m].variables[MPvar[0]]+mods[m].variables[MPvar[1]])\n",
    "    #Unir todas as variáveis\n",
    "    for i in range(2,len(MPvar)):\n",
    "        if MPvar[i] in mods[m].variables:\n",
    "            cMP[m] += mods[m].variables[MPvar[i]]\n",
    "    # Assign variable\n",
    "    mods[m] = mods[m].assign(variables={'MP':(cNOx[m])})\n",
    "    mods[m].variables['MP'].attrs['units'] = mods[m].variables[MPvar[0]].attrs['units']\n",
    "    mods[m].variables['MP'].attrs['long_name'] = 'MP calculado'\n",
    "# SOx\n",
    "    #Inicializar\n",
    "    cSOx.append(mods[m].variables[SOxvar[0]]+mods[m].variables[SOxvar[1]])\n",
    "    # Assign variable\n",
    "    mods[m] = mods[m].assign(variables={'SOx':(cSOx[m])})\n",
    "    mods[m].variables['SOx'].attrs['units'] = mods[m].variables[SOxvar[0]].attrs['units']\n",
    "    mods[m].variables['SOx'].attrs['long_name'] = 'SOx calculado'"
   ]
  },
  {
   "cell_type": "markdown",
   "metadata": {},
   "source": [
    "## Calcular participação"
   ]
  },
  {
   "cell_type": "code",
   "execution_count": 56,
   "metadata": {
    "collapsed": true
   },
   "outputs": [],
   "source": [
    "clset = sns.color_palette('Set2')"
   ]
  },
  {
   "cell_type": "code",
   "execution_count": 57,
   "metadata": {},
   "outputs": [
    {
     "data": {
      "image/png": "[encoded data removed]",
      "text/plain": [
       "<Figure size 1008x288 with 1 Axes>"
      ]
     },
     "metadata": {},
     "output_type": "display_data"
    }
   ],
   "source": [
    "rows = ['VOC','SOx','NOx','MP']\n",
    "emidic = {}\n",
    "for m in range(1,len(mods)):\n",
    "    emidic[modelagens[m]] = [float(mods[m][rows[0]].sum()),\n",
    "                             float(mods[m][rows[1]].sum()),\n",
    "                             float(mods[m][rows[2]].sum()),\n",
    "                             float(mods[m][rows[3]].sum())]\n",
    "emidic['Pol'] = rows\n",
    "emidf = pd.DataFrame(emidic)\n",
    "emidf.set_index('Pol', inplace=True)\n",
    "\n",
    "totals = [i+j+k+a+b+c for i,j,k,a,b,c in zip(emidf[modelagens[1]], emidf[modelagens[-1]], emidf[modelagens[3]],\n",
    "                                             emidf[modelagens[4]],emidf[modelagens[5]],emidf[modelagens[6]])]\n",
    "AIR = [i / j * 100 for i,j in zip(emidf['AIR'], totals)]\n",
    "INV_Industrial_Local = [i / j * 100 for i,j in zip(emidf['INV_Industrial_Local'], totals)]\n",
    "ENERGY = [i / j * 100 for i,j in zip(emidf['ENERGY'], totals)]\n",
    "RESIDENTIAL = [i / j * 100 for i,j in zip(emidf['RESIDENTIAL'], totals)]\n",
    "SHIPS = [i / j * 100 for i,j in zip(emidf['SHIPS'], totals)]\n",
    "TRANSPORT = [i / j * 100 for i,j in zip(emidf['TRANSPORT'], totals)]\n",
    "r = [0,1,2,3]\n",
    "\n",
    "fig, ax = plt.subplots(figsize=(14,4), frameon=False)\n",
    "# plot\n",
    "barWidth = 0.85\n",
    "# Create INDUSTRY\n",
    "ax.barh(r, INV_Industrial_Local, color=clset[0], edgecolor='white', \n",
    "        height=barWidth, label='INV_Industrial_Local')\n",
    "# Create TRANSPORT\n",
    "ax.barh(r, TRANSPORT, left=INV_Industrial_Local, color=clset[1], edgecolor='white', \n",
    "        height=barWidth, label='TRANSPORT')\n",
    "# Create ENERGY\n",
    "ax.barh(r, ENERGY, left=[i+j for i,j in zip(INV_Industrial_Local,TRANSPORT)], color=clset[2], edgecolor='white', \n",
    "        height=barWidth, label='ENERGY')\n",
    "# Create RESIDENTIAL\n",
    "ax.barh(r, RESIDENTIAL, left=[i+j+k for i,j,k in zip(INV_Industrial_Local,TRANSPORT,ENERGY)], color=clset[3], edgecolor='white', \n",
    "        height=barWidth, label='RESIDENTIAL')\n",
    "# Create SHIPS\n",
    "ax.barh(r, SHIPS, left=[i+j+k+a for i,j,k,a in zip(INV_Industrial_Local,TRANSPORT,ENERGY,RESIDENTIAL)], color=clset[4], edgecolor='white', \n",
    "        height=barWidth, label='SHIPS')\n",
    "# Create AIR\n",
    "ax.barh(r, AIR, left=[i+j+k+a+b for i,j,k,a,b in zip(INV_Industrial_Local,TRANSPORT,ENERGY,RESIDENTIAL,SHIPS)], color=clset[5], edgecolor='white', \n",
    "        height=barWidth, label='AIR')\n",
    "    \n",
    "# Custom x axis\n",
    "plt.yticks(r, rows)\n",
    "ax.set_ylabel('Poluentes')\n",
    "ax.set_xlabel('Contribuição por setor (%)')\n",
    "\n",
    "# Add a legend\n",
    "plt.legend(loc='lower center', bbox_to_anchor=(0.5,1), ncol=6)\n",
    "plt.tight_layout(pad=1.0)\n",
    "ax.spines['right'].set_visible(False)\n",
    "ax.spines['top'].set_visible(False)\n",
    "ax.spines['bottom'].set_visible(False)\n",
    "\n",
    "# Show graphic\n",
    "plt.show()\n",
    "\n"
   ]
  },
  {
   "cell_type": "code",
   "execution_count": 164,
   "metadata": {},
   "outputs": [
    {
     "data": {
      "text/plain": [
       "[0.0010495396916143727,\n",
       " 0.03953099539865757,\n",
       " 0.16688704296076287,\n",
       " 0.16688704296076287]"
      ]
     },
     "execution_count": 164,
     "metadata": {},
     "output_type": "execute_result"
    }
   ],
   "source": [
    "AIR"
   ]
  },
  {
   "cell_type": "code",
   "execution_count": 118,
   "metadata": {
    "collapsed": true
   },
   "outputs": [],
   "source": [
    "rows = ['VOC','SOx','NOx','MP']\n",
    "emidic = {}\n",
    "for m in range(0,len(mods)):\n",
    "    emidic[modelagens[m]] = [float(mods[m][rows[0]].mean()),\n",
    "                             float(mods[m][rows[1]].mean()),\n",
    "                             float(mods[m][rows[2]].mean()),\n",
    "                             float(mods[m][rows[3]].mean())]\n",
    "emidic['Pol'] = rows\n",
    "emidf = pd.DataFrame(emidic)\n",
    "emidf.set_index('Pol', inplace=True)"
   ]
  },
  {
   "cell_type": "code",
   "execution_count": 119,
   "metadata": {},
   "outputs": [
    {
     "data": {
      "text/plain": [
       "Pol\n",
       "VOC    11.425777\n",
       "SOx     0.206021\n",
       "NOx     0.677494\n",
       "MP      0.677494\n",
       "Name: COMBO, dtype: float64"
      ]
     },
     "execution_count": 119,
     "metadata": {},
     "output_type": "execute_result"
    }
   ],
   "source": [
    "emidf['COMBO']"
   ]
  },
  {
   "cell_type": "code",
   "execution_count": null,
   "metadata": {
    "collapsed": true
   },
   "outputs": [],
   "source": []
  }
 ],
 "metadata": {
  "celltoolbar": "Slideshow",
  "kernelspec": {
   "display_name": "Python 3",
   "language": "python",
   "name": "python3"
  },
  "language_info": {
   "codemirror_mode": {
    "name": "ipython",
    "version": 3
   },
   "file_extension": ".py",
   "mimetype": "text/x-python",
   "name": "python",
   "nbconvert_exporter": "python",
   "pygments_lexer": "ipython3",
   "version": "3.6.3"
  },
  "varInspector": {
   "cols": {
    "lenName": 16,
    "lenType": 16,
    "lenVar": 40
   },
   "kernels_config": {
    "python": {
     "delete_cmd_postfix": "",
     "delete_cmd_prefix": "del ",
     "library": "var_list.py",
     "varRefreshCmd": "print(var_dic_list())"
    },
    "r": {
     "delete_cmd_postfix": ") ",
     "delete_cmd_prefix": "rm(",
     "library": "var_list.r",
     "varRefreshCmd": "cat(var_dic_list()) "
    }
   },
   "types_to_exclude": [
    "module",
    "function",
    "builtin_function_or_method",
    "instance",
    "_Feature"
   ],
   "window_display": false
  }
 },
 "nbformat": 4,
 "nbformat_minor": 2
}
